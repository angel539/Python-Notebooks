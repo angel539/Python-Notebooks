{
  "nbformat": 4,
  "nbformat_minor": 0,
  "metadata": {
    "colab": {
      "name": "APIs-GoogleMaps-MongoDB.ipynb",
      "provenance": [],
      "collapsed_sections": [],
      "toc_visible": true,
      "include_colab_link": true
    },
    "kernelspec": {
      "name": "python3",
      "display_name": "Python 3"
    }
  },
  "cells": [
    {
      "cell_type": "markdown",
      "metadata": {
        "id": "view-in-github",
        "colab_type": "text"
      },
      "source": [
        "<a href=\"https://colab.research.google.com/github/angel539/Python-Notebooks/blob/main/APIs_GoogleMaps_MongoDB.ipynb\" target=\"_parent\"><img src=\"https://colab.research.google.com/assets/colab-badge.svg\" alt=\"Open In Colab\"/></a>"
      ]
    },
    {
      "cell_type": "markdown",
      "metadata": {
        "id": "JHSsnORK-lxb"
      },
      "source": [
        "**Ángel Mora Segura** / *Científico de Datos* / [**Linkedin**](https://www.linkedin.com/in/angelmoras/)\n",
        "\n",
        "Este notebook ha sido creado con un propósito educacional. Puedes compartir este notebook siempre que lo hagas bajo [estos términos](https://creativecommons.org/licenses/by-nc-sa/4.0/).\n",
        "\n",
        "---"
      ]
    },
    {
      "cell_type": "markdown",
      "metadata": {
        "id": "GfRoT_3fPvli"
      },
      "source": [
        "## 0. **Instalaciones**."
      ]
    },
    {
      "cell_type": "markdown",
      "metadata": {
        "id": "kiTjr_PoDrGn"
      },
      "source": [
        "Docu: https://developers.google.com/places/web-service/client-library"
      ]
    },
    {
      "cell_type": "markdown",
      "metadata": {
        "id": "56eqr3qzPzw6"
      },
      "source": [
        "**Instalando las dependencias:**"
      ]
    },
    {
      "cell_type": "code",
      "metadata": {
        "id": "WveoHBXqPqDA"
      },
      "source": [
        "import sys\n",
        "print(sys.version)\n",
        "# Importing mongo for 3.6.9 (default, Jul 17 2020, 12:50:27)"
      ],
      "execution_count": null,
      "outputs": []
    },
    {
      "cell_type": "code",
      "metadata": {
        "id": "Emb3yZrIP57B"
      },
      "source": [
        "# Instalando dependencias.\n",
        "!{sys.executable} -m pip install -U googlemaps"
      ],
      "execution_count": null,
      "outputs": []
    },
    {
      "cell_type": "code",
      "metadata": {
        "id": "d7FUGPkiEm_C"
      },
      "source": [
        "!{sys.executable} -m pip install folium"
      ],
      "execution_count": null,
      "outputs": []
    },
    {
      "cell_type": "markdown",
      "metadata": {
        "id": "gQrV3Dlb0U5p"
      },
      "source": [
        "**Importando las librerias:**"
      ]
    },
    {
      "cell_type": "code",
      "metadata": {
        "id": "WdDPjoi8QCOI"
      },
      "source": [
        "import googlemaps"
      ],
      "execution_count": null,
      "outputs": []
    },
    {
      "cell_type": "code",
      "metadata": {
        "id": "qiE89xvBSc-v"
      },
      "source": [
        "import pandas as pd"
      ],
      "execution_count": null,
      "outputs": []
    },
    {
      "cell_type": "code",
      "metadata": {
        "id": "Oj9BVWLRZyDd"
      },
      "source": [
        "import matplotlib.pyplot as plt\n",
        "import seaborn as sns\n",
        "import numpy as np\n",
        "from datetime import datetime"
      ],
      "execution_count": null,
      "outputs": []
    },
    {
      "cell_type": "code",
      "metadata": {
        "id": "eQd6kyNvEqh7"
      },
      "source": [
        "import folium"
      ],
      "execution_count": null,
      "outputs": []
    },
    {
      "cell_type": "markdown",
      "metadata": {
        "id": "3LY-eLRNrL4N"
      },
      "source": [
        "## 1. **Operando con GoogleMaps API para Python**."
      ]
    },
    {
      "cell_type": "markdown",
      "metadata": {
        "id": "i0XwvX30QFOC"
      },
      "source": [
        "**Conectandose al cliente de GoogleMaps:**"
      ]
    },
    {
      "cell_type": "code",
      "metadata": {
        "id": "VhcZs5vxQI27"
      },
      "source": [
        "# Si quieres hacer esto en casa puedes consultar el siguiente enlace:\n",
        "# https://github.com/googlemaps/google-maps-services-python\n",
        "# Aquí tienes un ejemplo de conexión para cada una de las posibles APIs:\n",
        "# https://github.com/googlemaps/google-maps-services-python/tree/master/tests\n",
        "\n",
        "# Si quieres saber cómo generar tu propia clave de API puedes consultar el siguiente enlace:\n",
        "# https://developers.google.com/maps/gmp-get-started\n",
        "# Dentro de esa web pulsa el botón Get Started.\n",
        "gmaps = googlemaps.Client(key='AQUÍ IRÍA LA KEY')"
      ],
      "execution_count": null,
      "outputs": []
    },
    {
      "cell_type": "markdown",
      "metadata": {
        "id": "C2qKXu5G3gL-"
      },
      "source": [
        "**Ejemplo #1: Usando `Geocoding API`**"
      ]
    },
    {
      "cell_type": "markdown",
      "metadata": {
        "id": "8QIXWs__EFFb"
      },
      "source": [
        "Docu: https://developers.google.com/maps/documentation/geocoding/start"
      ]
    },
    {
      "cell_type": "markdown",
      "metadata": {
        "id": "h3HE8CpD3uZ_"
      },
      "source": [
        "> Obteniendo la localización (latitud y longitud) de una dirección concreta."
      ]
    },
    {
      "cell_type": "code",
      "metadata": {
        "id": "FLXSVD1A3iHi"
      },
      "source": [
        "# Geocoding an address\n",
        "geocode_result = gmaps.geocode('Plaza de España, 11, Madrid, España')\n",
        "print(geocode_result)"
      ],
      "execution_count": null,
      "outputs": []
    },
    {
      "cell_type": "markdown",
      "metadata": {
        "id": "3vlU2Rf_3z2k"
      },
      "source": [
        "> Buscando una dirección en un punto de localización concreto."
      ]
    },
    {
      "cell_type": "code",
      "metadata": {
        "id": "E9GPqJxV3pe2"
      },
      "source": [
        "# Look up an address with reverse geocoding\n",
        "reverse_geocode_result = gmaps.reverse_geocode((40.4222658, -3.7162795))\n",
        "print(reverse_geocode_result)"
      ],
      "execution_count": null,
      "outputs": []
    },
    {
      "cell_type": "markdown",
      "metadata": {
        "id": "yRFjQMctEHhz"
      },
      "source": [
        "**Ejemplo #2: Usando `Directions API`**"
      ]
    },
    {
      "cell_type": "markdown",
      "metadata": {
        "id": "pDmLl-uXENRe"
      },
      "source": [
        "Docu: https://developers.google.com/maps/documentation/directions/start"
      ]
    },
    {
      "cell_type": "markdown",
      "metadata": {
        "id": "m6x_C_2z4ZPY"
      },
      "source": [
        "> Comprobando la ruta entre dos puntos."
      ]
    },
    {
      "cell_type": "code",
      "metadata": {
        "id": "xFeYmE093q0x"
      },
      "source": [
        "# Request directions via public transit\n",
        "now = datetime.now()\n",
        "directions_result = gmaps.directions(\"Plaza de España, 11, Madrid, España\",\n",
        "                                     \"Plaza de Callao, Madrid, España\",\n",
        "                                     mode=\"transit\",\n",
        "                                     departure_time=now)\n",
        "print(directions_result)"
      ],
      "execution_count": null,
      "outputs": []
    },
    {
      "cell_type": "markdown",
      "metadata": {
        "id": "0NT-heJEEkaT"
      },
      "source": [
        "**Ejemplo #3: Usando `Places API`**"
      ]
    },
    {
      "cell_type": "markdown",
      "metadata": {
        "id": "RmavI1e3EmKH"
      },
      "source": [
        "Docu: https://developers.google.com/places/web-service/overview"
      ]
    },
    {
      "cell_type": "markdown",
      "metadata": {
        "id": "pYDdRz7h5NTL"
      },
      "source": [
        "> Comprobando ciertos lugares de un tipo concreto."
      ]
    },
    {
      "cell_type": "code",
      "metadata": {
        "id": "PGGGrh9D7oBX"
      },
      "source": [
        "gmaps.find_place(\n",
        "    input=\"Plaza de Callao, Madrid, España\",\n",
        "    input_type=\"textquery\",\n",
        "    language=\"es\",\n",
        "    fields=['place_id', 'name', 'geometry/location/lat', 'photos'])"
      ],
      "execution_count": null,
      "outputs": []
    },
    {
      "cell_type": "code",
      "metadata": {
        "id": "65MbCAmO8-OZ"
      },
      "source": [
        "# Supported types:\n",
        "# https://developers.google.com/places/supported_types\n",
        "result_restaurantes = gmaps.places(query=\"Burger King\",\n",
        "                                    location = (40.4222658, -3.7162795),\n",
        "                                    radius   = 30000,        # In meters\n",
        "                                    language = \"es\",\n",
        "                                    type     = \"restaurant\",\n",
        "                                    open_now = False\n",
        "                          )\n",
        "# Complete result\n",
        "for key, value in result_restaurantes.items():\n",
        "      print(key, '->', value)"
      ],
      "execution_count": null,
      "outputs": []
    },
    {
      "cell_type": "markdown",
      "metadata": {
        "id": "_M2_TMm0NtE4"
      },
      "source": [
        "## 2. **Exportando el resultado a un `dataframe`, a un `mapa`, a una `base de datos` ...**"
      ]
    },
    {
      "cell_type": "markdown",
      "metadata": {
        "id": "Ja97l781__30"
      },
      "source": [
        "### 2.1 **De Maps a Pandas**."
      ]
    },
    {
      "cell_type": "code",
      "metadata": {
        "id": "9GxvotkhSS68"
      },
      "source": [
        "df_result_restaurantes = pd.DataFrame(columns = ['Place_Id', 'Nombre', 'Dirección', 'Icon', 'Latitude', 'Longitud', 'Tipo de lugar', 'Puntuación', 'Puntuaciones'])\n",
        "df_result_restaurantes.head()"
      ],
      "execution_count": null,
      "outputs": []
    },
    {
      "cell_type": "code",
      "metadata": {
        "id": "IB9FQlyw_13e"
      },
      "source": [
        "for result in result_restaurantes.get(\"results\"):\n",
        "      print(result)\n",
        "\n",
        "      new_row = {\n",
        "          'Place_Id'      : result.get('place_id'),\n",
        "          'Nombre'        : result.get('name'),\n",
        "          'Dirección'     : result.get('formatted_address'),\n",
        "          'Icon'          : result.get('icon'),\n",
        "          'Latitude'      : result.get('geometry').get('location').get('lat'),\n",
        "          'Longitud'      : result.get('geometry').get('location').get('lng'),\n",
        "          'Tipo de lugar' : result.get('types'),\n",
        "          'Puntuación'    : result.get('rating'),\n",
        "          'Puntuaciones'  : result.get('user_ratings_total')\n",
        "      }\n",
        "      \n",
        "      print(new_row)\n",
        "      df_result_restaurantes = df_result_restaurantes.append(new_row, ignore_index=True)"
      ],
      "execution_count": null,
      "outputs": []
    },
    {
      "cell_type": "code",
      "metadata": {
        "id": "23b2-iknCGX4"
      },
      "source": [
        "df_result_restaurantes.set_index('Place_Id')\n",
        "df_result_restaurantes.head()"
      ],
      "execution_count": null,
      "outputs": []
    },
    {
      "cell_type": "markdown",
      "metadata": {
        "id": "Q7VL2ZY_OKAw"
      },
      "source": [
        "### 2.2 **De Pandas a Folium**."
      ]
    },
    {
      "cell_type": "code",
      "metadata": {
        "id": "W15NX2UGE9cV"
      },
      "source": [
        "map = folium.Map(\n",
        "    location = [40.4222658, -3.7162795],\n",
        "    zoom_start = 6,\n",
        "    tiles = 'stamentoner'\n",
        ")\n",
        " \n",
        "for index, row in df_result_restaurantes.iterrows():\n",
        "    icon = folium.features.CustomIcon(row[\"Icon\"], icon_size=(28, 30))\n",
        "    \n",
        "    folium.Marker(\n",
        "              [row[\"Latitude\"], row[\"Longitud\"]],\n",
        "              popup     = row[\"Nombre\"] + \"\\n\" + str(row[\"Puntuación\"]) + \" (\" + str(row[\"Puntuaciones\"]) + \") \", \n",
        "              tooltip   = row[\"Dirección\"],\n",
        "              icon      = icon\n",
        "    ).add_to(map)"
      ],
      "execution_count": null,
      "outputs": []
    },
    {
      "cell_type": "code",
      "metadata": {
        "id": "atvnlDgnF9nm"
      },
      "source": [
        "map..save('mapa-google-maps.html')"
      ],
      "execution_count": null,
      "outputs": []
    },
    {
      "cell_type": "markdown",
      "metadata": {
        "id": "KCru9OViOR-1"
      },
      "source": [
        "### 2.3 **De Pandas a CSV**."
      ]
    },
    {
      "cell_type": "code",
      "metadata": {
        "id": "Q0wWn8L8IPZF"
      },
      "source": [
        "df_result_restaurantes.to_csv(\"restaurantes.csv\")"
      ],
      "execution_count": null,
      "outputs": []
    },
    {
      "cell_type": "markdown",
      "metadata": {
        "id": "0M6p4rsgOWfF"
      },
      "source": [
        "### 2.4 **De Pandas a MongoDB**."
      ]
    },
    {
      "cell_type": "markdown",
      "metadata": {
        "id": "chds5pXfJT7I"
      },
      "source": [
        "> Conectandome a la base de datos de MongoDB:"
      ]
    },
    {
      "cell_type": "code",
      "metadata": {
        "id": "yGmzXdw3JZ9k"
      },
      "source": [
        "# Instalando dependencias.\n",
        "!{sys.executable} -m pip install 'mongo' dnspython\n",
        "!{sys.executable} -m pip install pymongo"
      ],
      "execution_count": null,
      "outputs": []
    },
    {
      "cell_type": "code",
      "metadata": {
        "id": "YADayHnVJa84",
        "outputId": "a33027ee-ef9c-4930-88e3-7eac082994a1",
        "colab": {
          "base_uri": "https://localhost:8080/",
          "height": 34
        }
      },
      "source": [
        "import pymongo\n",
        "print (\"version:\", pymongo.version)"
      ],
      "execution_count": null,
      "outputs": [
        {
          "output_type": "stream",
          "text": [
            "version: 3.11.0\n"
          ],
          "name": "stdout"
        }
      ]
    },
    {
      "cell_type": "code",
      "metadata": {
        "id": "7aGNzPjxIa2w"
      },
      "source": [
        "# Si quieres hacer esto en casa puedes consultar el siguiente enlace:\n",
        "# https://docs.atlas.mongodb.com/tutorial/connect-to-your-cluster/\n",
        "\n",
        "# Aquí, debes indicar la URL de conexión de tu cluster.\n",
        "\n",
        "url = \"URL del Cluster de MongoDB\"\n",
        "client = pymongo.MongoClient(url)\n",
        "db = client.test"
      ],
      "execution_count": null,
      "outputs": []
    },
    {
      "cell_type": "markdown",
      "metadata": {
        "id": "WcZ2WnE7JhQQ"
      },
      "source": [
        "> Creando una nueva base de datos llamada `google_maps`:"
      ]
    },
    {
      "cell_type": "code",
      "metadata": {
        "id": "6cq37owsJgXP"
      },
      "source": [
        "db = client.google_maps"
      ],
      "execution_count": null,
      "outputs": []
    },
    {
      "cell_type": "markdown",
      "metadata": {
        "id": "YA8URsFPJ4cW"
      },
      "source": [
        "> Insentando las filas en una colección `restaurantes`:"
      ]
    },
    {
      "cell_type": "code",
      "metadata": {
        "id": "KDKWTjWeJ9Qe"
      },
      "source": [
        "for index, row in df_result_restaurantes.iterrows():\n",
        "    nuevo_restaurante = {\n",
        "          'Place_Id' :      row['Place_Id'],\n",
        "          'Nombre' :        row['Nombre'],\n",
        "          'Dirección' :     row['Dirección'],\n",
        "          'Icon' :          row['Icon'],\n",
        "          'Latitude' :      row['Latitude'],\n",
        "          'Longitud' :      row['Longitud'],\n",
        "          'Tipo de lugar' : row['Tipo de lugar'],\n",
        "          'Puntuación':     row['Puntuación'],\n",
        "          'Puntuaciones':   row['Puntuaciones']\n",
        "    }\n",
        "\n",
        "    result = db.restaurantes.insert_one(nuevo_restaurante)\n",
        "    print(\"Insertado objeto: \", result.inserted_id)"
      ],
      "execution_count": null,
      "outputs": []
    },
    {
      "cell_type": "code",
      "metadata": {
        "id": "ok4hU7jjLAlm"
      },
      "source": [
        "print(list(db.restaurantes.find()))"
      ],
      "execution_count": null,
      "outputs": []
    },
    {
      "cell_type": "markdown",
      "metadata": {
        "id": "fch4SlFxOanv"
      },
      "source": [
        "### 2.5 **De Maps a Pandas y MongoDB**."
      ]
    },
    {
      "cell_type": "markdown",
      "metadata": {
        "id": "AW8yLPB9LsXT"
      },
      "source": [
        "**¿Y si ahora lo hacemos todo a la vez?** Es decir, ¿y si leemos de GoogleMaps, lo guardamos en un `dataframe` y lo guardamos en una base de datos de `MongoDB` a la vez?"
      ]
    },
    {
      "cell_type": "code",
      "metadata": {
        "id": "plWc0E1iL03s"
      },
      "source": [
        "# Supported types:\n",
        "# https://developers.google.com/places/supported_types\n",
        "result_hospitales = gmaps.places(query=\"Hospital\",\n",
        "                        location = (40.4222658, -3.7162795),\n",
        "                        radius   = 10000,                      # In meters\n",
        "                        language = \"es\",\n",
        "                        type     = \"hospital\"\n",
        "                    )\n",
        "# Complete result\n",
        "for key, value in result_hospitales.items():\n",
        "      print(key, '->', value)"
      ],
      "execution_count": null,
      "outputs": []
    },
    {
      "cell_type": "code",
      "metadata": {
        "id": "G6V3da2lMMu1"
      },
      "source": [
        "df_result_hospitales = pd.DataFrame(columns = ['Place_Id', 'Nombre', 'Dirección', 'Icon', 'Latitude', 'Longitud', 'Tipo de lugar', 'Puntuación', 'Puntuaciones'])\n",
        "df_result_hospitales.head()"
      ],
      "execution_count": null,
      "outputs": []
    },
    {
      "cell_type": "code",
      "metadata": {
        "id": "oEN4ZtA2MUy4"
      },
      "source": [
        "for result in result_hospitales.get(\"results\"):\n",
        "      print(result)\n",
        "\n",
        "      new_row = {\n",
        "          'Place_Id'      : result.get('place_id'),\n",
        "          'Nombre'        : result.get('name'),\n",
        "          'Dirección'     : result.get('formatted_address'),\n",
        "          'Icon'          : result.get('icon'),\n",
        "          'Latitude'      : result.get('geometry').get('location').get('lat'),\n",
        "          'Longitud'      : result.get('geometry').get('location').get('lng'),\n",
        "          'Tipo de lugar' : result.get('types'),\n",
        "          'Puntuación'    : result.get('rating'),\n",
        "          'Puntuaciones'  : result.get('user_ratings_total')\n",
        "      }\n",
        "      \n",
        "      df_result_hospitales = df_result_hospitales.append(new_row, ignore_index=True)\n",
        "\n",
        "      result = db.hospitales.insert_one(new_row)\n",
        "      print(\"Insertado objeto: \", result.inserted_id)"
      ],
      "execution_count": null,
      "outputs": []
    },
    {
      "cell_type": "code",
      "metadata": {
        "id": "9MXHTKx8Mi8M"
      },
      "source": [
        "print(list(db.hospitales.find()))"
      ],
      "execution_count": null,
      "outputs": []
    },
    {
      "cell_type": "markdown",
      "metadata": {
        "id": "iVS7NAG7a7T6"
      },
      "source": [
        "## 3. **`unwind()` + `Seaborn`**"
      ]
    },
    {
      "cell_type": "markdown",
      "metadata": {
        "id": "AaCWMF2_w_n9"
      },
      "source": [
        "[Docu con ejemplos](https://docs.mongodb.com/manual/reference/operator/aggregation/unwind/)"
      ]
    },
    {
      "cell_type": "markdown",
      "metadata": {
        "id": "7RFcRlm6T0Xk"
      },
      "source": [
        "> Ejemplo de recuperando posiciones que están dentro de un array en MongoDB con `unwind()`:"
      ]
    },
    {
      "cell_type": "code",
      "metadata": {
        "id": "SdPL2AGmT8Md"
      },
      "source": [
        "result_unwind1 = db.hospitales.aggregate([\n",
        "                          { \n",
        "                              \"$unwind\" : \"$Tipo de lugar\"\n",
        "                          }\n",
        "])\n",
        "\n",
        "for document in result_unwind1:\n",
        "      print(document)"
      ],
      "execution_count": null,
      "outputs": []
    },
    {
      "cell_type": "markdown",
      "metadata": {
        "id": "1Wx7YuO6VNB0"
      },
      "source": [
        "> Ejemplo de `unwind()` incluyendo el indice del array:"
      ]
    },
    {
      "cell_type": "code",
      "metadata": {
        "id": "HNDs5aTTVR06"
      },
      "source": [
        "result_unwind2 = db.hospitales.aggregate([\n",
        "              { \n",
        "                  \"$unwind\" : {\n",
        "                    \"path\": \"$Tipo de lugar\",\n",
        "                    \"includeArrayIndex\": \"arrayIndex\"\n",
        "                  }\n",
        "              }\n",
        "])\n",
        "\n",
        "for document in result_unwind2:\n",
        "      print(document)"
      ],
      "execution_count": null,
      "outputs": []
    },
    {
      "cell_type": "markdown",
      "metadata": {
        "id": "YtNjhYaFWD_N"
      },
      "source": [
        "> Desagrupando con `unwind()` para después agrupar por tipos y hacer la media de los ratings:"
      ]
    },
    {
      "cell_type": "code",
      "metadata": {
        "id": "usrtJ8ZVWUxc"
      },
      "source": [
        "result_unwind3 = db.hospitales.aggregate([\n",
        "            # First Stage\n",
        "            {\n",
        "                \"$unwind\": { \n",
        "                    \"path\": \"$Tipo de lugar\", \n",
        "                    \"preserveNullAndEmptyArrays\": True\n",
        "                }\n",
        "            },\n",
        "            # Second Stage\n",
        "            {\n",
        "                \"$group\": {\n",
        "                    \"_id\": \"$Tipo de lugar\",\n",
        "                    \"averageRating\": { \n",
        "                        \"$avg\": \"$Puntuación\"\n",
        "                    }\n",
        "                }\n",
        "            },\n",
        "            # Third Stage\n",
        "            {\n",
        "                \"$sort\": { \n",
        "                    \"averageRating\": -1\n",
        "                }\n",
        "            }\n",
        "])\n",
        "\n",
        "for document in result_unwind3:\n",
        "  print(document)"
      ],
      "execution_count": null,
      "outputs": []
    },
    {
      "cell_type": "markdown",
      "metadata": {
        "id": "YRe8qYz0LjLd"
      },
      "source": [
        "> Hago lo de siempre: crear un dataframe vacio y rellenarlo."
      ]
    },
    {
      "cell_type": "code",
      "metadata": {
        "id": "_MmyXkMKYZS_"
      },
      "source": [
        "df_result_ratings = pd.DataFrame(columns = ['Id', 'Rating'])\n",
        "df_result_ratings.head()"
      ],
      "execution_count": null,
      "outputs": []
    },
    {
      "cell_type": "code",
      "metadata": {
        "id": "gwFf3bcmX7_B"
      },
      "source": [
        "result_unwind4 = db.restaurantes.aggregate([\n",
        "            # First Stage\n",
        "            {\n",
        "                \"$unwind\": { \n",
        "                    \"path\": \"$Tipo de lugar\", \n",
        "                    \"preserveNullAndEmptyArrays\": True\n",
        "                }\n",
        "            },\n",
        "            # Second Stage\n",
        "            {\n",
        "                \"$group\": {\n",
        "                    \"_id\": \"$Tipo de lugar\",\n",
        "                    \"averageRating\": { \n",
        "                        \"$avg\": \"$Puntuación\"\n",
        "                    }\n",
        "                }\n",
        "            },\n",
        "            # Third Stage\n",
        "            {\n",
        "                \"$sort\": { \n",
        "                    \"averageRating\": -1\n",
        "                }\n",
        "            }\n",
        "])\n",
        "\n",
        "for document in result_unwind4:\n",
        "    new_row = {\n",
        "        'Id'      : document.get(\"_id\"),\n",
        "        'Rating'  : document.get(\"averageRating\")\n",
        "    }\n",
        "    df_result_ratings = df_result_ratings.append(new_row, ignore_index=True)"
      ],
      "execution_count": null,
      "outputs": []
    },
    {
      "cell_type": "code",
      "metadata": {
        "id": "to5NlcTbLt3y"
      },
      "source": [
        "df_result_ratings.head()"
      ],
      "execution_count": null,
      "outputs": []
    },
    {
      "cell_type": "code",
      "metadata": {
        "id": "10i6vtZ6YSA1"
      },
      "source": [
        "fig, ax = plt.subplots(figsize=(15,6))\n",
        "ax.set_ylim(df_result_ratings[\"Rating\"].min()-0.05, df_result_ratings[\"Rating\"].max()+0.05)\n",
        "sns.barplot(x=\"Id\", y=\"Rating\", data=df_result_ratings, palette=\"rainbow\")\n",
        "plt.show()"
      ],
      "execution_count": null,
      "outputs": []
    },
    {
      "cell_type": "markdown",
      "metadata": {
        "id": "QpUyHYbjcgaq"
      },
      "source": [
        "## 4. Operando con `next_page_token`"
      ]
    },
    {
      "cell_type": "markdown",
      "metadata": {
        "id": "uqxJL9n0ctli"
      },
      "source": [
        "Si observas nuestros resultados hasta ahora, sólo hemos conseguir recuperar los primeros 20 resultados en la búsqueda."
      ]
    },
    {
      "cell_type": "markdown",
      "metadata": {
        "id": "kF_m3wMJc1Nc"
      },
      "source": [
        "> Vamos a ver ahora como operar con `nextPageToken`."
      ]
    },
    {
      "cell_type": "code",
      "metadata": {
        "id": "BS7ywL-gcp9a"
      },
      "source": [
        "# Supported types:\n",
        "# https://developers.google.com/places/supported_types\n",
        "result_restaurantes_page1 = gmaps.places(query=\"Burger King\",\n",
        "                                        location = (40.4222658, -3.7162795),\n",
        "                                        radius   = 30000,                      # In meters\n",
        "                                        language = \"es\",\n",
        "                                        type     = \"restaurant\",\n",
        "                                        open_now = False\n",
        "                    )\n",
        "# Complete result\n",
        "for key, value in result_restaurantes_page1.items():\n",
        "      print(key, '->', value)"
      ],
      "execution_count": null,
      "outputs": []
    },
    {
      "cell_type": "markdown",
      "metadata": {
        "id": "XnNk-eiddJPi"
      },
      "source": [
        "Vamos a repetir esta misma búsqueda con su `next_page_token`:"
      ]
    },
    {
      "cell_type": "code",
      "metadata": {
        "id": "Eug9VlEUdYXV"
      },
      "source": [
        "result_restaurantes_page2 = gmaps.places(query=\"Burger King\",\n",
        "                        location   = (40.4222658, -3.7162795),\n",
        "                        radius     = 30000,                      # In meters\n",
        "                        language   = \"es\",\n",
        "                        type       = \"restaurant\",\n",
        "                        open_now   = False,\n",
        "                        page_token = result_restaurantes_page1.get(\"next_page_token\")\n",
        "                    )\n",
        "# Complete result\n",
        "for key, value in result_restaurantes_page2.items():\n",
        "      print(key, '->', value)"
      ],
      "execution_count": null,
      "outputs": []
    },
    {
      "cell_type": "markdown",
      "metadata": {
        "id": "kSCcskhPd7eg"
      },
      "source": [
        "> ¿Y si lo hacemos como si fueramos programadores?"
      ]
    },
    {
      "cell_type": "code",
      "metadata": {
        "id": "n_rvWDPheC8u"
      },
      "source": [
        "result_restaurantes = gmaps.places(\n",
        "                          query      = \"Mc Donalds\",\n",
        "                          location   = (40.4222658, -3.7162795),\n",
        "                          radius     = 30000,                      # In meters\n",
        "                          language   = \"es\",\n",
        "                          type       = \"food\",\n",
        "                          open_now   = False\n",
        "                      )\n",
        "\n",
        "limit = 1\n",
        "while (limit < 20) and (\"next_page_token\" in result_restaurantes):\n",
        "    try:\n",
        "      result_restaurantes = gmaps.places(\n",
        "                                    query      = \"Mc Donalds\",\n",
        "                                    page_token = result_restaurantes.get(\"next_page_token\")\n",
        "                            )\n",
        "    except:\n",
        "      limit = 20\n",
        "    limit += 1"
      ],
      "execution_count": null,
      "outputs": []
    },
    {
      "cell_type": "markdown",
      "metadata": {
        "id": "tzQdxJg_20z3"
      },
      "source": [
        "Vamos a probar ahora lo de MongoDB combinado con esto:"
      ]
    },
    {
      "cell_type": "code",
      "metadata": {
        "id": "L-GCZioZ4jJc"
      },
      "source": [
        "def maps_to_mongo(result_maps):\n",
        "  for result in result_maps.get(\"results\"):\n",
        "      new_row = {\n",
        "          'Place_Id'      : result.get('place_id'),\n",
        "          'Nombre'        : result.get('name'),\n",
        "          'Dirección'     : result.get('formatted_address'),\n",
        "          'Icon'          : result.get('icon'),\n",
        "          'Latitude'      : result.get('geometry').get('location').get('lat'),\n",
        "          'Longitud'      : result.get('geometry').get('location').get('lng'),\n",
        "          'Tipo de lugar' : result.get('types'),\n",
        "          'Puntuación'    : result.get('rating'),\n",
        "          'Puntuaciones'  : result.get('user_ratings_total')\n",
        "      }\n",
        "      \n",
        "      result = db.galerias.insert_one(new_row)\n",
        "      print(\"Insertado objeto: \", result.inserted_id)"
      ],
      "execution_count": null,
      "outputs": []
    },
    {
      "cell_type": "code",
      "metadata": {
        "id": "SJ5u--o624aM"
      },
      "source": [
        "result_restaurantes = gmaps.places(\n",
        "                          query      = \"Galería\",\n",
        "                          location   = (40.4222658, -3.7162795),\n",
        "                          radius     = 50000,                      # In meters\n",
        "                          language   = \"es\",\n",
        "                          type       = \"tourist_attraction\",\n",
        "                          open_now   = False\n",
        "                      )\n",
        "maps_to_mongo(result_restaurantes)\n",
        "\n",
        "limit = 1\n",
        "while (limit < 20) and (\"next_page_token\" in result_restaurantes):\n",
        "    try:\n",
        "      result_restaurantes = gmaps.places(\n",
        "                                    query      = \"Galería\",\n",
        "                                    page_token = result_restaurantes.get(\"next_page_token\")\n",
        "                            )\n",
        "      maps_to_mongo(result_restaurantes)\n",
        "    except:\n",
        "      limit = 20\n",
        "    limit += 1"
      ],
      "execution_count": null,
      "outputs": []
    },
    {
      "cell_type": "markdown",
      "metadata": {
        "id": "P6MvD5wgFeIj"
      },
      "source": [
        "## 5. `Places API` + `Directions API`"
      ]
    },
    {
      "cell_type": "markdown",
      "metadata": {
        "id": "w8S7ckNdR1eG"
      },
      "source": [
        "> Ahora vamos a juntar las consultas de la API de Places y las de la API de Direccions para crear una nueva tabla en MongoDB que nos posibilite guardar el recorrido entre dos puntos."
      ]
    },
    {
      "cell_type": "code",
      "metadata": {
        "id": "PLw3qK7fPV3Y"
      },
      "source": [
        "def directions_to_mongo(origin, target, result_maps): \n",
        "  #for result in result_maps:\n",
        "      # Aquí habría que hacer el mapping de los resultados obtenidos con Maps.\n",
        "      print(\"From\", origin, \"To\", target)\n",
        "      print(result_maps) \n",
        "      #result_mongo = db.direcciones.insert_one(new_row)\n",
        "      #print(\"Insertado objeto: \", result_mongo.inserted_id)"
      ],
      "execution_count": null,
      "outputs": []
    },
    {
      "cell_type": "markdown",
      "metadata": {
        "id": "8GSJH0H8e3c9"
      },
      "source": [
        "La respuesta de la API de direcciones tiene este formato:\n",
        "\n",
        "https://developers.google.com/maps/documentation/directions/overview#DirectionsResponses"
      ]
    },
    {
      "cell_type": "code",
      "metadata": {
        "id": "Zk_NLx4rGnhO"
      },
      "source": [
        "now = datetime.now()\n",
        "\n",
        "# Request directions via public transit\n",
        "for hospital in db.hospitales.find().limit(10):\n",
        "    for restaurante in db.restaurantes.find().limit(10):\n",
        "        directions_result = gmaps.directions(\n",
        "                                    (hospital.get(\"Latitude\"), hospital.get(\"Longitud\")),\n",
        "                                    (restaurante.get(\"Latitude\"), restaurante.get(\"Longitud\")),\n",
        "                                    mode=\"transit\",\n",
        "                                    departure_time = now)\n",
        "        \n",
        "        directions_to_mongo(hospital.get(\"Place_Id\"), restaurante.get(\"Place_Id\"), directions_result)"
      ],
      "execution_count": null,
      "outputs": []
    },
    {
      "cell_type": "markdown",
      "metadata": {
        "id": "KCjTqVgEvXaV"
      },
      "source": [
        "## 7. **Merging data in MongoDB**."
      ]
    },
    {
      "cell_type": "code",
      "metadata": {
        "id": "jgp5-EcfyI9s"
      },
      "source": [
        "# Para saber como operar con indices en MongoDB, puedes consultar el siguiente enlace:\n",
        "# https://docs.mongodb.com/manual/indexes/\n",
        "db.places.create_index([(\"place_id\", pymongo.ASCENDING)], unique = True)"
      ],
      "execution_count": null,
      "outputs": []
    },
    {
      "cell_type": "code",
      "metadata": {
        "id": "Sl5ioTYlySRY"
      },
      "source": [
        "result_q35 = db.galerias.aggregate([\n",
        "            {\n",
        "                \"$project\": {\n",
        "                      \"_id\":            0,\n",
        "                      \"place_id\":       \"$Place_Id\",\n",
        "                      \"name\" :          \"$Nombre\",\n",
        "                      \"address\" :       \"$Dirección\",  \n",
        "                      \"icon\":           \"$Icon\",\n",
        "                      \"lat\":            \"$Latitude\",\n",
        "                      \"lng\":            \"$Longitud\",\n",
        "                      \"type\":           \"$Tipo de lugar\",\n",
        "                      \"rating\":         \"$Puntuación\",\n",
        "                      \"ratings_total\":  \"$Puntuaciones\"\n",
        "                  },\n",
        "            },\n",
        "            {\n",
        "                \"$merge\": { \n",
        "                    \"into\":        \"places\",\n",
        "                    \"on\"  :        \"place_id\",\n",
        "                    \"whenMatched\": \"keepExisting\"\n",
        "                }\n",
        "            }\n",
        "])"
      ],
      "execution_count": null,
      "outputs": []
    },
    {
      "cell_type": "code",
      "metadata": {
        "id": "_go29EADwSIW"
      },
      "source": [
        "from geopy.geocoders import Nominatim\n",
        "geolocator = Nominatim(user_agent=\"can_explorer\")\n",
        "geo_spain = 'Spain'\n",
        "location_spain = geolocator.geocode(geo_spain)\n",
        "\n",
        "lat = location_spain.latitude\n",
        "long = location_spain.longitude\n",
        "print(\"Spain location: \", lat, long)"
      ],
      "execution_count": null,
      "outputs": []
    },
    {
      "cell_type": "code",
      "metadata": {
        "id": "v0jHfvSNu79q"
      },
      "source": [
        "map_places = folium.Map(\n",
        "    location = [lat, long],\n",
        "    zoom_start = 5,\n",
        "    tiles = 'stamentoner'\n",
        ")\n",
        "\n",
        "for place in db.places.find():\n",
        "    icon = folium.features.CustomIcon(place.get(\"icon\"), icon_size=(15, 15))\n",
        "    \n",
        "    folium.Marker(\n",
        "              [place.get(\"lat\"), place.get(\"lng\")],\n",
        "              popup     = place.get(\"name\") + \"\\n\" + str(place.get(\"rating\")) + \" (\" + str(place.get(\"ratings_total\")) + \") \", \n",
        "              tooltip   = place.get(\"address\"),\n",
        "              icon      = icon\n",
        "    ).add_to(map_places)"
      ],
      "execution_count": null,
      "outputs": []
    },
    {
      "cell_type": "code",
      "metadata": {
        "id": "SdDGjKgNxQ_D"
      },
      "source": [
        "map_places.save('places.html')"
      ],
      "execution_count": null,
      "outputs": []
    }
  ]
}