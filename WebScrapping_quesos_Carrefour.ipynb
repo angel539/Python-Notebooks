{
  "nbformat": 4,
  "nbformat_minor": 0,
  "metadata": {
    "kernelspec": {
      "display_name": "Python 3",
      "language": "python",
      "name": "python3"
    },
    "language_info": {
      "codemirror_mode": {
        "name": "ipython",
        "version": 3
      },
      "file_extension": ".py",
      "mimetype": "text/x-python",
      "name": "python",
      "nbconvert_exporter": "python",
      "pygments_lexer": "ipython3",
      "version": "3.8.3"
    },
    "colab": {
      "name": "WebScrapping_quesos_Carrefour.ipynb",
      "provenance": [],
      "include_colab_link": true
    }
  },
  "cells": [
    {
      "cell_type": "markdown",
      "metadata": {
        "id": "view-in-github",
        "colab_type": "text"
      },
      "source": [
        "<a href=\"https://colab.research.google.com/github/angel539/Python-Notebooks/blob/main/WebScrapping_quesos_Carrefour.ipynb\" target=\"_parent\"><img src=\"https://colab.research.google.com/assets/colab-badge.svg\" alt=\"Open In Colab\"/></a>"
      ]
    },
    {
      "cell_type": "markdown",
      "metadata": {
        "id": "LrGhTCofw4KX"
      },
      "source": [
        "### Importando las librerias:"
      ]
    },
    {
      "cell_type": "code",
      "metadata": {
        "id": "V9wIeS4tw4Kg"
      },
      "source": [
        "import pandas as pd\n",
        "import requests\n",
        "from bs4 import BeautifulSoup\n",
        "import time"
      ],
      "execution_count": 1,
      "outputs": []
    },
    {
      "cell_type": "code",
      "metadata": {
        "id": "dtmo0mrSw4Kx"
      },
      "source": [
        "# DataFrame vacío.\n",
        "df_quesos = pd.DataFrame(columns = ['Nombre','Formato','Precio_Kilo','Precio_Normal','Precio_Descontado', 'Descuento'])"
      ],
      "execution_count": 2,
      "outputs": []
    },
    {
      "cell_type": "markdown",
      "metadata": {
        "id": "tcvpN7Vsw4K6"
      },
      "source": [
        "### Haciendo Web Scrapping con BeautifulSoup."
      ]
    },
    {
      "cell_type": "code",
      "metadata": {
        "id": "I2FQS0_Qw4K7"
      },
      "source": [
        "# Paginacion\n",
        "for num in range(0, 583, 24):\n",
        "    url              = \"https://www.carrefour.es/supermercado/el-mercado/quesos/todos-los-quesos/N-ndzi6a/c?No=\" + str(num) + \"&Nr%3DAND(product.shopCodes%3A004320%2Cproduct.salepointWithActivePrice_004320%3A1%2COR(product.siteId%3AbasicSite))OR)\"\n",
        "    response         = requests.get(url,  headers={'User-Agent': 'Mozilla/5.0'})\n",
        "    soup             = BeautifulSoup(response.text, \"html.parser\")\n",
        "\n",
        "    todos_los_quesos = soup.find_all(\"article\", class_=\"product-card-item\")\n",
        "\n",
        "    # Recorrer por item.\n",
        "    for i in range(len(todos_los_quesos)-1):\n",
        "        try:\n",
        "          # Resolver los valores que voy a guardar en el DataFrame.\n",
        "          nombre                  = todos_los_quesos[i].find(\"p\", class_=\"title-product\").text.replace(\"\\n\",\"\")\n",
        "          formato_precio          = todos_los_quesos[i].find(\"p\", class_=\"format-price\").text.replace(\"\\n\",\"\").replace(\"\\xa0\",\"\")\n",
        "          formato_precio_spplited = formato_precio.split(\" |\")\n",
        "          formato                 = formato_precio_spplited[0]\n",
        "          precio_kilo             = formato_precio_spplited[1].replace('€/kg', '').replace('€/ud','')     \n",
        "          precio_normal           = todos_los_quesos[i].find(\"span\", class_='price').text.split('\\xa0')[0]\n",
        "          precio_descontado       = precio_normal\n",
        "          descontado              = False\n",
        "        except:\n",
        "          precio_normal           = todos_los_quesos[i].find(\"span\", class_='strike-price').text.split('\\n')[2].split('\\xa0')[0]\n",
        "          precio_descontado       = todos_los_quesos[i].find('span', class_='price-less').text.split('\\n')[1].split('\\xa0')[0]      \n",
        "          descontado              = True\n",
        "        finally:\n",
        "            # Guardar en el dataframe.\n",
        "            new_row = {\n",
        "                'Nombre'            : nombre,\n",
        "                'Formato'           : formato,\n",
        "                'Precio_Kilo'       : float(precio_kilo.replace(',', '.')),\n",
        "                'Precio_Normal'     : float(precio_normal.replace(',', '.')),\n",
        "                'Precio_Descontado' : float(precio_descontado.replace(',', '.')),\n",
        "                'Descuento'         : descontado\n",
        "            }\n",
        "            df_quesos = df_quesos.append(new_row, ignore_index=True)"
      ],
      "execution_count": 3,
      "outputs": []
    },
    {
      "cell_type": "code",
      "metadata": {
        "id": "y0sJrQ3Aw4LD"
      },
      "source": [
        "# Para comprobar los tipos.\n",
        "# df_quesos.dtypes"
      ],
      "execution_count": 4,
      "outputs": []
    },
    {
      "cell_type": "markdown",
      "metadata": {
        "id": "IV9x77MBw4LK"
      },
      "source": [
        "### Guardando el dataframe en un CSV para no perder los datos."
      ]
    },
    {
      "cell_type": "code",
      "metadata": {
        "id": "MP9Bejfrw4LK"
      },
      "source": [
        "df_quesos.to_csv('quesos.csv')"
      ],
      "execution_count": 5,
      "outputs": []
    }
  ]
}